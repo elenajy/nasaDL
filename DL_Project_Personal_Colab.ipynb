{
  "nbformat": 4,
  "nbformat_minor": 0,
  "metadata": {
    "colab": {
      "provenance": []
    },
    "kernelspec": {
      "name": "python3",
      "display_name": "Python 3"
    },
    "language_info": {
      "name": "python"
    }
  },
  "cells": [
    {
      "cell_type": "code",
      "source": [
        "from tensorflow import keras\n",
        "from tensorflow.keras import layers\n",
        "import numpy as np\n",
        "import matplotlib.pyplot as plt\n",
        "import pandas as pd"
      ],
      "metadata": {
        "id": "23pSwrStoUv6"
      },
      "execution_count": 1,
      "outputs": []
    },
    {
      "cell_type": "code",
      "execution_count": 2,
      "metadata": {
        "id": "U3ZJnc6_hF-h",
        "colab": {
          "base_uri": "https://localhost:8080/"
        },
        "outputId": "e19e1e04-2544-4334-e5ed-cb9a4095725e"
      },
      "outputs": [
        {
          "output_type": "stream",
          "name": "stderr",
          "text": [
            "<ipython-input-2-4e29ccedc3ef>:7: FutureWarning: Downcasting behavior in `replace` is deprecated and will be removed in a future version. To retain the old behavior, explicitly call `result.infer_objects(copy=False)`. To opt-in to the future behavior, set `pd.set_option('future.no_silent_downcasting', True)`\n",
            "  df_target[\"class\"] = df_target[\"class\"].replace({'GALAXY': 1, 'QSO': 2, 'STAR': 3})\n",
            "<ipython-input-2-4e29ccedc3ef>:7: SettingWithCopyWarning: \n",
            "A value is trying to be set on a copy of a slice from a DataFrame.\n",
            "Try using .loc[row_indexer,col_indexer] = value instead\n",
            "\n",
            "See the caveats in the documentation: https://pandas.pydata.org/pandas-docs/stable/user_guide/indexing.html#returning-a-view-versus-a-copy\n",
            "  df_target[\"class\"] = df_target[\"class\"].replace({'GALAXY': 1, 'QSO': 2, 'STAR': 3})\n"
          ]
        }
      ],
      "source": [
        "df = pd.read_csv('/content/star_classification.csv')\n",
        "df_data = df[[\"alpha\", \"delta\", \"u\", \"g\", \"r\", \"i\", \"z\", \"redshift\"]]\n",
        "\n",
        "\n",
        "#convert class to numbers\n",
        "df_target = df[[\"class\"]]\n",
        "df_target[\"class\"] = df_target[\"class\"].replace({'GALAXY': 1, 'QSO': 2, 'STAR': 3})\n",
        "\n",
        "#divide data\n",
        "split_index1 = int(0.6* len(df))\n",
        "split_index2 = int(0.8* len(df))\n",
        "\n",
        "train_inputs = df_data[:split_index1]  # First 60% for training\n",
        "val_inputs = df_data[split_index1:split_index2] #next 20% validation\n",
        "test_inputs = df_data[split_index2:]  #last 20% for testing\n",
        "\n",
        "train_targets = df_target[:split_index1]\n",
        "val_targets = df_target[split_index1:split_index2]\n",
        "test_targets = df_target[split_index2:]\n",
        "\n",
        "#convert to numpy array\n",
        "train_input_np = train_inputs.to_numpy()\n",
        "val_input_np = val_inputs.to_numpy()\n",
        "test_input_np = test_inputs.to_numpy()\n",
        "\n",
        "train_target_np = train_targets.to_numpy()\n",
        "val_target_np = val_targets.to_numpy()\n",
        "test_target_np = test_targets.to_numpy()\n",
        "\n",
        "#convert to numpy stack\n",
        "train_input_stack = np.vstack(train_input_np)\n",
        "val_input_stack = np.vstack(val_input_np)\n",
        "test_input_stack = np.vstack(test_input_np)\n",
        "\n",
        "train_target_stack = np.vstack(train_target_np)\n",
        "val_target_stack = np.vstack(val_target_np)\n",
        "test_target_stack = np.vstack(test_target_np)\n"
      ]
    },
    {
      "cell_type": "code",
      "source": [
        "# df[\"z\"].unique()\n",
        "\n",
        "train_inputs = train_input_stack.astype(np.float32)\n",
        "train_targets = train_target_stack.astype(np.float32)\n",
        "\n",
        "val_inputs = val_input_stack.astype(np.float32)\n",
        "val_targets = val_target_stack.astype(np.float32)\n",
        "\n",
        "test_inputs = test_input_stack.astype(np.float32)\n",
        "test_targets = test_target_stack.astype(np.float32)\n",
        "\n"
      ],
      "metadata": {
        "id": "7C4hnGn0k_Lh"
      },
      "execution_count": 3,
      "outputs": []
    },
    {
      "cell_type": "code",
      "source": [
        "df_data"
      ],
      "metadata": {
        "id": "QFeLTPISvT1K",
        "colab": {
          "base_uri": "https://localhost:8080/",
          "height": 424
        },
        "outputId": "f3fbe360-b0fa-4e92-afde-e86ed4d7da0a"
      },
      "execution_count": 4,
      "outputs": [
        {
          "output_type": "execute_result",
          "data": {
            "text/plain": [
              "            alpha      delta         u         g         r         i  \\\n",
              "0      135.689107  32.494632  23.87882  22.27530  20.39501  19.16573   \n",
              "1      144.826101  31.274185  24.77759  22.83188  22.58444  21.16812   \n",
              "2      142.188790  35.582444  25.26307  22.66389  20.60976  19.34857   \n",
              "3      338.741038  -0.402828  22.13682  23.77656  21.61162  20.50454   \n",
              "4      345.282593  21.183866  19.43718  17.58028  16.49747  15.97711   \n",
              "...           ...        ...       ...       ...       ...       ...   \n",
              "99995   39.620709  -2.594074  22.16759  22.97586  21.90404  21.30548   \n",
              "99996   29.493819  19.798874  22.69118  22.38628  20.45003  19.75759   \n",
              "99997  224.587407  15.700707  21.16916  19.26997  18.20428  17.69034   \n",
              "99998  212.268621  46.660365  25.35039  21.63757  19.91386  19.07254   \n",
              "99999  196.896053  49.464643  22.62171  21.79745  20.60115  20.00959   \n",
              "\n",
              "              z  redshift  \n",
              "0      18.79371  0.634794  \n",
              "1      21.61427  0.779136  \n",
              "2      18.94827  0.644195  \n",
              "3      19.25010  0.932346  \n",
              "4      15.54461  0.116123  \n",
              "...         ...       ...  \n",
              "99995  20.73569  0.000000  \n",
              "99996  19.41526  0.404895  \n",
              "99997  17.35221  0.143366  \n",
              "99998  18.62482  0.455040  \n",
              "99999  19.28075  0.542944  \n",
              "\n",
              "[100000 rows x 8 columns]"
            ],
            "text/html": [
              "\n",
              "  <div id=\"df-6044f585-08ab-4ec2-813b-6399ae7696e4\" class=\"colab-df-container\">\n",
              "    <div>\n",
              "<style scoped>\n",
              "    .dataframe tbody tr th:only-of-type {\n",
              "        vertical-align: middle;\n",
              "    }\n",
              "\n",
              "    .dataframe tbody tr th {\n",
              "        vertical-align: top;\n",
              "    }\n",
              "\n",
              "    .dataframe thead th {\n",
              "        text-align: right;\n",
              "    }\n",
              "</style>\n",
              "<table border=\"1\" class=\"dataframe\">\n",
              "  <thead>\n",
              "    <tr style=\"text-align: right;\">\n",
              "      <th></th>\n",
              "      <th>alpha</th>\n",
              "      <th>delta</th>\n",
              "      <th>u</th>\n",
              "      <th>g</th>\n",
              "      <th>r</th>\n",
              "      <th>i</th>\n",
              "      <th>z</th>\n",
              "      <th>redshift</th>\n",
              "    </tr>\n",
              "  </thead>\n",
              "  <tbody>\n",
              "    <tr>\n",
              "      <th>0</th>\n",
              "      <td>135.689107</td>\n",
              "      <td>32.494632</td>\n",
              "      <td>23.87882</td>\n",
              "      <td>22.27530</td>\n",
              "      <td>20.39501</td>\n",
              "      <td>19.16573</td>\n",
              "      <td>18.79371</td>\n",
              "      <td>0.634794</td>\n",
              "    </tr>\n",
              "    <tr>\n",
              "      <th>1</th>\n",
              "      <td>144.826101</td>\n",
              "      <td>31.274185</td>\n",
              "      <td>24.77759</td>\n",
              "      <td>22.83188</td>\n",
              "      <td>22.58444</td>\n",
              "      <td>21.16812</td>\n",
              "      <td>21.61427</td>\n",
              "      <td>0.779136</td>\n",
              "    </tr>\n",
              "    <tr>\n",
              "      <th>2</th>\n",
              "      <td>142.188790</td>\n",
              "      <td>35.582444</td>\n",
              "      <td>25.26307</td>\n",
              "      <td>22.66389</td>\n",
              "      <td>20.60976</td>\n",
              "      <td>19.34857</td>\n",
              "      <td>18.94827</td>\n",
              "      <td>0.644195</td>\n",
              "    </tr>\n",
              "    <tr>\n",
              "      <th>3</th>\n",
              "      <td>338.741038</td>\n",
              "      <td>-0.402828</td>\n",
              "      <td>22.13682</td>\n",
              "      <td>23.77656</td>\n",
              "      <td>21.61162</td>\n",
              "      <td>20.50454</td>\n",
              "      <td>19.25010</td>\n",
              "      <td>0.932346</td>\n",
              "    </tr>\n",
              "    <tr>\n",
              "      <th>4</th>\n",
              "      <td>345.282593</td>\n",
              "      <td>21.183866</td>\n",
              "      <td>19.43718</td>\n",
              "      <td>17.58028</td>\n",
              "      <td>16.49747</td>\n",
              "      <td>15.97711</td>\n",
              "      <td>15.54461</td>\n",
              "      <td>0.116123</td>\n",
              "    </tr>\n",
              "    <tr>\n",
              "      <th>...</th>\n",
              "      <td>...</td>\n",
              "      <td>...</td>\n",
              "      <td>...</td>\n",
              "      <td>...</td>\n",
              "      <td>...</td>\n",
              "      <td>...</td>\n",
              "      <td>...</td>\n",
              "      <td>...</td>\n",
              "    </tr>\n",
              "    <tr>\n",
              "      <th>99995</th>\n",
              "      <td>39.620709</td>\n",
              "      <td>-2.594074</td>\n",
              "      <td>22.16759</td>\n",
              "      <td>22.97586</td>\n",
              "      <td>21.90404</td>\n",
              "      <td>21.30548</td>\n",
              "      <td>20.73569</td>\n",
              "      <td>0.000000</td>\n",
              "    </tr>\n",
              "    <tr>\n",
              "      <th>99996</th>\n",
              "      <td>29.493819</td>\n",
              "      <td>19.798874</td>\n",
              "      <td>22.69118</td>\n",
              "      <td>22.38628</td>\n",
              "      <td>20.45003</td>\n",
              "      <td>19.75759</td>\n",
              "      <td>19.41526</td>\n",
              "      <td>0.404895</td>\n",
              "    </tr>\n",
              "    <tr>\n",
              "      <th>99997</th>\n",
              "      <td>224.587407</td>\n",
              "      <td>15.700707</td>\n",
              "      <td>21.16916</td>\n",
              "      <td>19.26997</td>\n",
              "      <td>18.20428</td>\n",
              "      <td>17.69034</td>\n",
              "      <td>17.35221</td>\n",
              "      <td>0.143366</td>\n",
              "    </tr>\n",
              "    <tr>\n",
              "      <th>99998</th>\n",
              "      <td>212.268621</td>\n",
              "      <td>46.660365</td>\n",
              "      <td>25.35039</td>\n",
              "      <td>21.63757</td>\n",
              "      <td>19.91386</td>\n",
              "      <td>19.07254</td>\n",
              "      <td>18.62482</td>\n",
              "      <td>0.455040</td>\n",
              "    </tr>\n",
              "    <tr>\n",
              "      <th>99999</th>\n",
              "      <td>196.896053</td>\n",
              "      <td>49.464643</td>\n",
              "      <td>22.62171</td>\n",
              "      <td>21.79745</td>\n",
              "      <td>20.60115</td>\n",
              "      <td>20.00959</td>\n",
              "      <td>19.28075</td>\n",
              "      <td>0.542944</td>\n",
              "    </tr>\n",
              "  </tbody>\n",
              "</table>\n",
              "<p>100000 rows × 8 columns</p>\n",
              "</div>\n",
              "    <div class=\"colab-df-buttons\">\n",
              "\n",
              "  <div class=\"colab-df-container\">\n",
              "    <button class=\"colab-df-convert\" onclick=\"convertToInteractive('df-6044f585-08ab-4ec2-813b-6399ae7696e4')\"\n",
              "            title=\"Convert this dataframe to an interactive table.\"\n",
              "            style=\"display:none;\">\n",
              "\n",
              "  <svg xmlns=\"http://www.w3.org/2000/svg\" height=\"24px\" viewBox=\"0 -960 960 960\">\n",
              "    <path d=\"M120-120v-720h720v720H120Zm60-500h600v-160H180v160Zm220 220h160v-160H400v160Zm0 220h160v-160H400v160ZM180-400h160v-160H180v160Zm440 0h160v-160H620v160ZM180-180h160v-160H180v160Zm440 0h160v-160H620v160Z\"/>\n",
              "  </svg>\n",
              "    </button>\n",
              "\n",
              "  <style>\n",
              "    .colab-df-container {\n",
              "      display:flex;\n",
              "      gap: 12px;\n",
              "    }\n",
              "\n",
              "    .colab-df-convert {\n",
              "      background-color: #E8F0FE;\n",
              "      border: none;\n",
              "      border-radius: 50%;\n",
              "      cursor: pointer;\n",
              "      display: none;\n",
              "      fill: #1967D2;\n",
              "      height: 32px;\n",
              "      padding: 0 0 0 0;\n",
              "      width: 32px;\n",
              "    }\n",
              "\n",
              "    .colab-df-convert:hover {\n",
              "      background-color: #E2EBFA;\n",
              "      box-shadow: 0px 1px 2px rgba(60, 64, 67, 0.3), 0px 1px 3px 1px rgba(60, 64, 67, 0.15);\n",
              "      fill: #174EA6;\n",
              "    }\n",
              "\n",
              "    .colab-df-buttons div {\n",
              "      margin-bottom: 4px;\n",
              "    }\n",
              "\n",
              "    [theme=dark] .colab-df-convert {\n",
              "      background-color: #3B4455;\n",
              "      fill: #D2E3FC;\n",
              "    }\n",
              "\n",
              "    [theme=dark] .colab-df-convert:hover {\n",
              "      background-color: #434B5C;\n",
              "      box-shadow: 0px 1px 3px 1px rgba(0, 0, 0, 0.15);\n",
              "      filter: drop-shadow(0px 1px 2px rgba(0, 0, 0, 0.3));\n",
              "      fill: #FFFFFF;\n",
              "    }\n",
              "  </style>\n",
              "\n",
              "    <script>\n",
              "      const buttonEl =\n",
              "        document.querySelector('#df-6044f585-08ab-4ec2-813b-6399ae7696e4 button.colab-df-convert');\n",
              "      buttonEl.style.display =\n",
              "        google.colab.kernel.accessAllowed ? 'block' : 'none';\n",
              "\n",
              "      async function convertToInteractive(key) {\n",
              "        const element = document.querySelector('#df-6044f585-08ab-4ec2-813b-6399ae7696e4');\n",
              "        const dataTable =\n",
              "          await google.colab.kernel.invokeFunction('convertToInteractive',\n",
              "                                                    [key], {});\n",
              "        if (!dataTable) return;\n",
              "\n",
              "        const docLinkHtml = 'Like what you see? Visit the ' +\n",
              "          '<a target=\"_blank\" href=https://colab.research.google.com/notebooks/data_table.ipynb>data table notebook</a>'\n",
              "          + ' to learn more about interactive tables.';\n",
              "        element.innerHTML = '';\n",
              "        dataTable['output_type'] = 'display_data';\n",
              "        await google.colab.output.renderOutput(dataTable, element);\n",
              "        const docLink = document.createElement('div');\n",
              "        docLink.innerHTML = docLinkHtml;\n",
              "        element.appendChild(docLink);\n",
              "      }\n",
              "    </script>\n",
              "  </div>\n",
              "\n",
              "\n",
              "<div id=\"df-ec4a99e4-097c-4757-a537-a1c4088fc6d2\">\n",
              "  <button class=\"colab-df-quickchart\" onclick=\"quickchart('df-ec4a99e4-097c-4757-a537-a1c4088fc6d2')\"\n",
              "            title=\"Suggest charts\"\n",
              "            style=\"display:none;\">\n",
              "\n",
              "<svg xmlns=\"http://www.w3.org/2000/svg\" height=\"24px\"viewBox=\"0 0 24 24\"\n",
              "     width=\"24px\">\n",
              "    <g>\n",
              "        <path d=\"M19 3H5c-1.1 0-2 .9-2 2v14c0 1.1.9 2 2 2h14c1.1 0 2-.9 2-2V5c0-1.1-.9-2-2-2zM9 17H7v-7h2v7zm4 0h-2V7h2v10zm4 0h-2v-4h2v4z\"/>\n",
              "    </g>\n",
              "</svg>\n",
              "  </button>\n",
              "\n",
              "<style>\n",
              "  .colab-df-quickchart {\n",
              "      --bg-color: #E8F0FE;\n",
              "      --fill-color: #1967D2;\n",
              "      --hover-bg-color: #E2EBFA;\n",
              "      --hover-fill-color: #174EA6;\n",
              "      --disabled-fill-color: #AAA;\n",
              "      --disabled-bg-color: #DDD;\n",
              "  }\n",
              "\n",
              "  [theme=dark] .colab-df-quickchart {\n",
              "      --bg-color: #3B4455;\n",
              "      --fill-color: #D2E3FC;\n",
              "      --hover-bg-color: #434B5C;\n",
              "      --hover-fill-color: #FFFFFF;\n",
              "      --disabled-bg-color: #3B4455;\n",
              "      --disabled-fill-color: #666;\n",
              "  }\n",
              "\n",
              "  .colab-df-quickchart {\n",
              "    background-color: var(--bg-color);\n",
              "    border: none;\n",
              "    border-radius: 50%;\n",
              "    cursor: pointer;\n",
              "    display: none;\n",
              "    fill: var(--fill-color);\n",
              "    height: 32px;\n",
              "    padding: 0;\n",
              "    width: 32px;\n",
              "  }\n",
              "\n",
              "  .colab-df-quickchart:hover {\n",
              "    background-color: var(--hover-bg-color);\n",
              "    box-shadow: 0 1px 2px rgba(60, 64, 67, 0.3), 0 1px 3px 1px rgba(60, 64, 67, 0.15);\n",
              "    fill: var(--button-hover-fill-color);\n",
              "  }\n",
              "\n",
              "  .colab-df-quickchart-complete:disabled,\n",
              "  .colab-df-quickchart-complete:disabled:hover {\n",
              "    background-color: var(--disabled-bg-color);\n",
              "    fill: var(--disabled-fill-color);\n",
              "    box-shadow: none;\n",
              "  }\n",
              "\n",
              "  .colab-df-spinner {\n",
              "    border: 2px solid var(--fill-color);\n",
              "    border-color: transparent;\n",
              "    border-bottom-color: var(--fill-color);\n",
              "    animation:\n",
              "      spin 1s steps(1) infinite;\n",
              "  }\n",
              "\n",
              "  @keyframes spin {\n",
              "    0% {\n",
              "      border-color: transparent;\n",
              "      border-bottom-color: var(--fill-color);\n",
              "      border-left-color: var(--fill-color);\n",
              "    }\n",
              "    20% {\n",
              "      border-color: transparent;\n",
              "      border-left-color: var(--fill-color);\n",
              "      border-top-color: var(--fill-color);\n",
              "    }\n",
              "    30% {\n",
              "      border-color: transparent;\n",
              "      border-left-color: var(--fill-color);\n",
              "      border-top-color: var(--fill-color);\n",
              "      border-right-color: var(--fill-color);\n",
              "    }\n",
              "    40% {\n",
              "      border-color: transparent;\n",
              "      border-right-color: var(--fill-color);\n",
              "      border-top-color: var(--fill-color);\n",
              "    }\n",
              "    60% {\n",
              "      border-color: transparent;\n",
              "      border-right-color: var(--fill-color);\n",
              "    }\n",
              "    80% {\n",
              "      border-color: transparent;\n",
              "      border-right-color: var(--fill-color);\n",
              "      border-bottom-color: var(--fill-color);\n",
              "    }\n",
              "    90% {\n",
              "      border-color: transparent;\n",
              "      border-bottom-color: var(--fill-color);\n",
              "    }\n",
              "  }\n",
              "</style>\n",
              "\n",
              "  <script>\n",
              "    async function quickchart(key) {\n",
              "      const quickchartButtonEl =\n",
              "        document.querySelector('#' + key + ' button');\n",
              "      quickchartButtonEl.disabled = true;  // To prevent multiple clicks.\n",
              "      quickchartButtonEl.classList.add('colab-df-spinner');\n",
              "      try {\n",
              "        const charts = await google.colab.kernel.invokeFunction(\n",
              "            'suggestCharts', [key], {});\n",
              "      } catch (error) {\n",
              "        console.error('Error during call to suggestCharts:', error);\n",
              "      }\n",
              "      quickchartButtonEl.classList.remove('colab-df-spinner');\n",
              "      quickchartButtonEl.classList.add('colab-df-quickchart-complete');\n",
              "    }\n",
              "    (() => {\n",
              "      let quickchartButtonEl =\n",
              "        document.querySelector('#df-ec4a99e4-097c-4757-a537-a1c4088fc6d2 button');\n",
              "      quickchartButtonEl.style.display =\n",
              "        google.colab.kernel.accessAllowed ? 'block' : 'none';\n",
              "    })();\n",
              "  </script>\n",
              "</div>\n",
              "\n",
              "  <div id=\"id_27e28b25-9cab-41c9-b915-8187eee8de40\">\n",
              "    <style>\n",
              "      .colab-df-generate {\n",
              "        background-color: #E8F0FE;\n",
              "        border: none;\n",
              "        border-radius: 50%;\n",
              "        cursor: pointer;\n",
              "        display: none;\n",
              "        fill: #1967D2;\n",
              "        height: 32px;\n",
              "        padding: 0 0 0 0;\n",
              "        width: 32px;\n",
              "      }\n",
              "\n",
              "      .colab-df-generate:hover {\n",
              "        background-color: #E2EBFA;\n",
              "        box-shadow: 0px 1px 2px rgba(60, 64, 67, 0.3), 0px 1px 3px 1px rgba(60, 64, 67, 0.15);\n",
              "        fill: #174EA6;\n",
              "      }\n",
              "\n",
              "      [theme=dark] .colab-df-generate {\n",
              "        background-color: #3B4455;\n",
              "        fill: #D2E3FC;\n",
              "      }\n",
              "\n",
              "      [theme=dark] .colab-df-generate:hover {\n",
              "        background-color: #434B5C;\n",
              "        box-shadow: 0px 1px 3px 1px rgba(0, 0, 0, 0.15);\n",
              "        filter: drop-shadow(0px 1px 2px rgba(0, 0, 0, 0.3));\n",
              "        fill: #FFFFFF;\n",
              "      }\n",
              "    </style>\n",
              "    <button class=\"colab-df-generate\" onclick=\"generateWithVariable('df_data')\"\n",
              "            title=\"Generate code using this dataframe.\"\n",
              "            style=\"display:none;\">\n",
              "\n",
              "  <svg xmlns=\"http://www.w3.org/2000/svg\" height=\"24px\"viewBox=\"0 0 24 24\"\n",
              "       width=\"24px\">\n",
              "    <path d=\"M7,19H8.4L18.45,9,17,7.55,7,17.6ZM5,21V16.75L18.45,3.32a2,2,0,0,1,2.83,0l1.4,1.43a1.91,1.91,0,0,1,.58,1.4,1.91,1.91,0,0,1-.58,1.4L9.25,21ZM18.45,9,17,7.55Zm-12,3A5.31,5.31,0,0,0,4.9,8.1,5.31,5.31,0,0,0,1,6.5,5.31,5.31,0,0,0,4.9,4.9,5.31,5.31,0,0,0,6.5,1,5.31,5.31,0,0,0,8.1,4.9,5.31,5.31,0,0,0,12,6.5,5.46,5.46,0,0,0,6.5,12Z\"/>\n",
              "  </svg>\n",
              "    </button>\n",
              "    <script>\n",
              "      (() => {\n",
              "      const buttonEl =\n",
              "        document.querySelector('#id_27e28b25-9cab-41c9-b915-8187eee8de40 button.colab-df-generate');\n",
              "      buttonEl.style.display =\n",
              "        google.colab.kernel.accessAllowed ? 'block' : 'none';\n",
              "\n",
              "      buttonEl.onclick = () => {\n",
              "        google.colab.notebook.generateWithVariable('df_data');\n",
              "      }\n",
              "      })();\n",
              "    </script>\n",
              "  </div>\n",
              "\n",
              "    </div>\n",
              "  </div>\n"
            ],
            "application/vnd.google.colaboratory.intrinsic+json": {
              "type": "dataframe",
              "variable_name": "df_data",
              "summary": "{\n  \"name\": \"df_data\",\n  \"rows\": 100000,\n  \"fields\": [\n    {\n      \"column\": \"alpha\",\n      \"properties\": {\n        \"dtype\": \"number\",\n        \"std\": 96.50224089833225,\n        \"min\": 0.0055278279239701,\n        \"max\": 359.999809770956,\n        \"num_unique_values\": 99999,\n        \"samples\": [\n          118.663236264366,\n          358.991829744244,\n          30.887222067625\n        ],\n        \"semantic_type\": \"\",\n        \"description\": \"\"\n      }\n    },\n    {\n      \"column\": \"delta\",\n      \"properties\": {\n        \"dtype\": \"number\",\n        \"std\": 19.644665404293633,\n        \"min\": -18.7853280771825,\n        \"max\": 83.00051858898,\n        \"num_unique_values\": 99999,\n        \"samples\": [\n          39.6424291996807,\n          32.7490859208678,\n          1.18870964120799\n        ],\n        \"semantic_type\": \"\",\n        \"description\": \"\"\n      }\n    },\n    {\n      \"column\": \"u\",\n      \"properties\": {\n        \"dtype\": \"number\",\n        \"std\": 31.769290803750323,\n        \"min\": -9999.0,\n        \"max\": 32.78139,\n        \"num_unique_values\": 93748,\n        \"samples\": [\n          25.78018,\n          20.35472,\n          18.63082\n        ],\n        \"semantic_type\": \"\",\n        \"description\": \"\"\n      }\n    },\n    {\n      \"column\": \"g\",\n      \"properties\": {\n        \"dtype\": \"number\",\n        \"std\": 31.750292329083205,\n        \"min\": -9999.0,\n        \"max\": 31.60224,\n        \"num_unique_values\": 92651,\n        \"samples\": [\n          20.88286,\n          23.75559,\n          17.81253\n        ],\n        \"semantic_type\": \"\",\n        \"description\": \"\"\n      }\n    },\n    {\n      \"column\": \"r\",\n      \"properties\": {\n        \"dtype\": \"number\",\n        \"std\": 1.8547596943455276,\n        \"min\": 9.82207,\n        \"max\": 29.57186,\n        \"num_unique_values\": 91901,\n        \"samples\": [\n          17.36957,\n          21.53207,\n          16.49815\n        ],\n        \"semantic_type\": \"\",\n        \"description\": \"\"\n      }\n    },\n    {\n      \"column\": \"i\",\n      \"properties\": {\n        \"dtype\": \"number\",\n        \"std\": 1.7578947904903852,\n        \"min\": 9.469903,\n        \"max\": 32.14147,\n        \"num_unique_values\": 92019,\n        \"samples\": [\n          20.34415,\n          17.00401,\n          19.63559\n        ],\n        \"semantic_type\": \"\",\n        \"description\": \"\"\n      }\n    },\n    {\n      \"column\": \"z\",\n      \"properties\": {\n        \"dtype\": \"number\",\n        \"std\": 31.728151785953937,\n        \"min\": -9999.0,\n        \"max\": 29.38374,\n        \"num_unique_values\": 92007,\n        \"samples\": [\n          17.31985,\n          22.73434,\n          19.62752\n        ],\n        \"semantic_type\": \"\",\n        \"description\": \"\"\n      }\n    },\n    {\n      \"column\": \"redshift\",\n      \"properties\": {\n        \"dtype\": \"number\",\n        \"std\": 0.7307072761888128,\n        \"min\": -0.009970667,\n        \"max\": 7.011245,\n        \"num_unique_values\": 99295,\n        \"samples\": [\n          3.202965,\n          0.4115816,\n          0.34582\n        ],\n        \"semantic_type\": \"\",\n        \"description\": \"\"\n      }\n    }\n  ]\n}"
            }
          },
          "metadata": {},
          "execution_count": 4
        }
      ]
    },
    {
      "cell_type": "code",
      "source": [
        "(train_inputs)"
      ],
      "metadata": {
        "id": "ovFNwtv8vtXN",
        "colab": {
          "base_uri": "https://localhost:8080/"
        },
        "outputId": "3e6bc935-73bf-416a-e167-a4ee9aa32c9d"
      },
      "execution_count": 5,
      "outputs": [
        {
          "output_type": "execute_result",
          "data": {
            "text/plain": [
              "array([[135.6891   ,  32.494633 ,  23.87882  , ...,  19.16573  ,\n",
              "         18.79371  ,   0.6347936],\n",
              "       [144.8261   ,  31.274185 ,  24.77759  , ...,  21.16812  ,\n",
              "         21.61427  ,   0.779136 ],\n",
              "       [142.1888   ,  35.582443 ,  25.26307  , ...,  19.34857  ,\n",
              "         18.94827  ,   0.6441945],\n",
              "       ...,\n",
              "       [174.91995  ,  52.271618 ,  22.28294  , ...,  19.2916   ,\n",
              "         18.8      ,   0.50591  ],\n",
              "       [184.6338   ,  52.710712 ,  26.06024  , ...,  19.6161   ,\n",
              "         19.07299  ,   0.5994404],\n",
              "       [150.09737  ,   3.7487898,  24.12138  , ...,  19.59054  ,\n",
              "         19.17026  ,   0.5362175]], dtype=float32)"
            ]
          },
          "metadata": {},
          "execution_count": 5
        }
      ]
    },
    {
      "cell_type": "code",
      "source": [
        "model = keras.Sequential([\n",
        "     layers.Dense(16, activation=\"relu\"),\n",
        "     layers.Dense(16, activation = 'relu'),\n",
        "     layers.Dense(8, activation=\"softmax\")\n",
        "])\n",
        "\n",
        "model.compile(optimizer=\"rmsprop\",\n",
        "              loss=\"sparse_categorical_crossentropy\",\n",
        "              metrics=[\"accuracy\"])\n",
        "\n",
        "\n",
        "history = model.fit(train_inputs, train_targets,\n",
        "                    epochs=7,\n",
        "                    batch_size=16,\n",
        "                    validation_data = (val_inputs, val_targets))\n",
        "history_dict = history.history\n",
        "history_dict.keys()"
      ],
      "metadata": {
        "id": "RxxcH4vNnvHx",
        "colab": {
          "base_uri": "https://localhost:8080/"
        },
        "outputId": "f01478b8-03bd-4972-9e65-31b65526ca11"
      },
      "execution_count": 6,
      "outputs": [
        {
          "output_type": "stream",
          "name": "stdout",
          "text": [
            "Epoch 1/7\n",
            "\u001b[1m3750/3750\u001b[0m \u001b[32m━━━━━━━━━━━━━━━━━━━━\u001b[0m\u001b[37m\u001b[0m \u001b[1m13s\u001b[0m 3ms/step - accuracy: 0.5939 - loss: 1.0957 - val_accuracy: 0.8138 - val_loss: 0.5145\n",
            "Epoch 2/7\n",
            "\u001b[1m3750/3750\u001b[0m \u001b[32m━━━━━━━━━━━━━━━━━━━━\u001b[0m\u001b[37m\u001b[0m \u001b[1m20s\u001b[0m 3ms/step - accuracy: 0.7976 - loss: 0.4649 - val_accuracy: 0.8619 - val_loss: 0.4064\n",
            "Epoch 3/7\n",
            "\u001b[1m3750/3750\u001b[0m \u001b[32m━━━━━━━━━━━━━━━━━━━━\u001b[0m\u001b[37m\u001b[0m \u001b[1m10s\u001b[0m 3ms/step - accuracy: 0.8556 - loss: 0.3531 - val_accuracy: 0.7984 - val_loss: 0.5484\n",
            "Epoch 4/7\n",
            "\u001b[1m3750/3750\u001b[0m \u001b[32m━━━━━━━━━━━━━━━━━━━━\u001b[0m\u001b[37m\u001b[0m \u001b[1m9s\u001b[0m 2ms/step - accuracy: 0.8819 - loss: 0.3000 - val_accuracy: 0.9445 - val_loss: 0.2841\n",
            "Epoch 5/7\n",
            "\u001b[1m3750/3750\u001b[0m \u001b[32m━━━━━━━━━━━━━━━━━━━━\u001b[0m\u001b[37m\u001b[0m \u001b[1m9s\u001b[0m 2ms/step - accuracy: 0.8992 - loss: 0.2702 - val_accuracy: 0.9372 - val_loss: 0.2376\n",
            "Epoch 6/7\n",
            "\u001b[1m3750/3750\u001b[0m \u001b[32m━━━━━━━━━━━━━━━━━━━━\u001b[0m\u001b[37m\u001b[0m \u001b[1m11s\u001b[0m 3ms/step - accuracy: 0.9091 - loss: 0.2524 - val_accuracy: 0.9319 - val_loss: 0.2089\n",
            "Epoch 7/7\n",
            "\u001b[1m3750/3750\u001b[0m \u001b[32m━━━━━━━━━━━━━━━━━━━━\u001b[0m\u001b[37m\u001b[0m \u001b[1m9s\u001b[0m 2ms/step - accuracy: 0.9152 - loss: 0.2415 - val_accuracy: 0.8875 - val_loss: 0.2413\n"
          ]
        },
        {
          "output_type": "execute_result",
          "data": {
            "text/plain": [
              "dict_keys(['accuracy', 'loss', 'val_accuracy', 'val_loss'])"
            ]
          },
          "metadata": {},
          "execution_count": 6
        }
      ]
    },
    {
      "cell_type": "code",
      "source": [
        "history_dict = history.history\n",
        "history_dict.keys()\n",
        "\n",
        "history_dict = history.history\n",
        "acc = history_dict[\"accuracy\"]\n",
        "val_acc = history_dict[\"val_accuracy\"]\n",
        "\n",
        "plt.plot(acc, \"bo\", label=\"Training acc\")\n",
        "plt.plot( val_acc, \"b\", label=\"Validation acc\")\n",
        "\n",
        "plt.title(\"Training and validation accuracy\")\n",
        "plt.xlabel(\"Epochs\")\n",
        "plt.ylabel(\"Accuracy\")\n",
        "plt.legend()\n",
        "plt.show()"
      ],
      "metadata": {
        "id": "ikbQ1RxHt-Sn",
        "colab": {
          "base_uri": "https://localhost:8080/",
          "height": 472
        },
        "outputId": "e281270a-af4f-40cb-aad1-0918d80c7d8b"
      },
      "execution_count": 7,
      "outputs": [
        {
          "output_type": "display_data",
          "data": {
            "text/plain": [
              "<Figure size 640x480 with 1 Axes>"
            ],
            "image/png": "[encoded data removed]"
          },
          "metadata": {}
        }
      ]
    },
    {
      "cell_type": "markdown",
      "source": [
        "# making a function to rerun the model"
      ],
      "metadata": {
        "id": "csLxgf090u3D"
      }
    },
    {
      "cell_type": "markdown",
      "source": [
        "## ETF\n",
        "\n",
        "Loading and processing the data."
      ],
      "metadata": {
        "id": "fH-3L50q0-N1"
      }
    },
    {
      "cell_type": "code",
      "source": [
        "df = pd.read_csv('/content/star_classification.csv')\n",
        "df_data = df[[\"alpha\", \"delta\", \"u\", \"g\", \"r\", \"i\", \"z\", \"redshift\"]]\n",
        "\n",
        "\n",
        "#convert class to numbers\n",
        "df_target = df[[\"class\"]]\n",
        "df_target[\"class\"] = df_target[\"class\"].replace({'GALAXY': 1, 'QSO': 2, 'STAR': 3})\n",
        "\n",
        "#divide data\n",
        "split_index1 = int(0.6* len(df))\n",
        "split_index2 = int(0.8* len(df))\n",
        "\n",
        "train_inputs = df_data[:split_index1]  # First 60% for training\n",
        "val_inputs = df_data[split_index1:split_index2] #next 20% validation\n",
        "test_inputs = df_data[split_index2:]  #last 20% for testing\n",
        "\n",
        "train_targets = df_target[:split_index1]\n",
        "val_targets = df_target[split_index1:split_index2]\n",
        "test_targets = df_target[split_index2:]\n",
        "\n",
        "#convert to numpy array\n",
        "train_input_np = train_inputs.to_numpy()\n",
        "val_input_np = val_inputs.to_numpy()\n",
        "test_input_np = test_inputs.to_numpy()\n",
        "\n",
        "train_target_np = train_targets.to_numpy()\n",
        "val_target_np = val_targets.to_numpy()\n",
        "test_target_np = test_targets.to_numpy()\n",
        "\n",
        "#convert to numpy stack\n",
        "train_input_stack = np.vstack(train_input_np)\n",
        "val_input_stack = np.vstack(val_input_np)\n",
        "test_input_stack = np.vstack(test_input_np)\n",
        "\n",
        "train_target_stack = np.vstack(train_target_np)\n",
        "val_target_stack = np.vstack(val_target_np)\n",
        "test_target_stack = np.vstack(test_target_np)\n",
        "\n",
        "# convert to floats\n",
        "train_inputs = train_input_stack.astype(np.float32)\n",
        "train_targets = train_target_stack.astype(np.float32)\n",
        "\n",
        "val_inputs = val_input_stack.astype(np.float32)\n",
        "val_targets = val_target_stack.astype(np.float32)\n",
        "\n",
        "test_inputs = test_input_stack.astype(np.float32)\n",
        "test_targets = test_target_stack.astype(np.float32)"
      ],
      "metadata": {
        "id": "uezsFCa609D2",
        "colab": {
          "base_uri": "https://localhost:8080/"
        },
        "outputId": "05fe183d-80a3-4b70-cc29-35741a9ebdae"
      },
      "execution_count": 8,
      "outputs": [
        {
          "output_type": "stream",
          "name": "stderr",
          "text": [
            "<ipython-input-8-0b0679614b37>:7: FutureWarning: Downcasting behavior in `replace` is deprecated and will be removed in a future version. To retain the old behavior, explicitly call `result.infer_objects(copy=False)`. To opt-in to the future behavior, set `pd.set_option('future.no_silent_downcasting', True)`\n",
            "  df_target[\"class\"] = df_target[\"class\"].replace({'GALAXY': 1, 'QSO': 2, 'STAR': 3})\n",
            "<ipython-input-8-0b0679614b37>:7: SettingWithCopyWarning: \n",
            "A value is trying to be set on a copy of a slice from a DataFrame.\n",
            "Try using .loc[row_indexer,col_indexer] = value instead\n",
            "\n",
            "See the caveats in the documentation: https://pandas.pydata.org/pandas-docs/stable/user_guide/indexing.html#returning-a-view-versus-a-copy\n",
            "  df_target[\"class\"] = df_target[\"class\"].replace({'GALAXY': 1, 'QSO': 2, 'STAR': 3})\n"
          ]
        }
      ]
    },
    {
      "cell_type": "markdown",
      "source": [
        "## defining the function\n",
        "\n",
        "!!!!! note for lorraine--- go back later and implement kwargs instead"
      ],
      "metadata": {
        "id": "hLW6GFHl4W3E"
      }
    },
    {
      "cell_type": "code",
      "source": [
        "def stellar_model(intermediate_layers, layer_units, optimize, loss_function, my_epochs, batchsize):\n",
        "\n",
        "    #define intermediate layers and layer units for model\n",
        "    layers_for_model = []\n",
        "    for i in range(intermediate_layers):\n",
        "      layers_for_model.append(layers.Dense(layer_units, activation=\"relu\"))\n",
        "\n",
        "    # layers_for_model = []\n",
        "    # for i in range(intermediate_layers):\n",
        "    #   layers_for_model.append(layers.Dense(layer_units, activation=\"relu\"))\n",
        "\n",
        "    # model = keras.Sequential([\n",
        "    #  layers.Dense(16, activation=\"relu\"),\n",
        "    #  layers.Dense(16, activation = 'relu'),\n",
        "    #  layers.Dense(8, activation=\"softmax\")\n",
        "    # ])\n",
        "\n",
        "    model = keras.Sequential(layers_for_model + [layers.Dense(8, activation=\"softmax\")])\n",
        "\n",
        "    model.compile(optimizer=optimize,\n",
        "                  loss=loss_function,\n",
        "                  metrics=[\"accuracy\"])\n",
        "\n",
        "\n",
        "    history = model.fit(train_inputs, train_targets,\n",
        "                        epochs=my_epochs,\n",
        "                        batch_size=16,\n",
        "                        validation_data = (val_inputs, val_targets))\n",
        "\n",
        "    history_dict = history.history\n",
        "    history_dict.keys()\n",
        "\n",
        "    history_dict = history.history\n",
        "    acc = history_dict[\"accuracy\"]\n",
        "    val_acc = history_dict[\"val_accuracy\"]\n",
        "\n",
        "    plt.plot(acc, \"bo\", label=\"Training acc\")\n",
        "    plt.plot( val_acc, \"b\", label=\"Validation acc\")\n",
        "\n",
        "    plt.title(\"Training and validation accuracy\")\n",
        "    plt.xlabel(\"Epochs\")\n",
        "    plt.ylabel(\"Accuracy\")\n",
        "    plt.legend()\n",
        "    plt.show()\n",
        "\n"
      ],
      "metadata": {
        "id": "jwPGhweLd4Nh"
      },
      "execution_count": 9,
      "outputs": []
    },
    {
      "cell_type": "markdown",
      "source": [
        "## Building a Function to Generate the Model"
      ],
      "metadata": {
        "id": "BRb3kzSO4cu-"
      }
    },
    {
      "cell_type": "markdown",
      "source": [
        "### testing the function"
      ],
      "metadata": {
        "id": "nqsSOiAxmGEN"
      }
    },
    {
      "cell_type": "code",
      "source": [
        "default = stellar_model(2, 16, \"rmsprop\", \"sparse_categorical_crossentropy\", 7, 16)\n",
        "# intemediate_layers, layer_units, optimize, loss_function, my_epochs, batch size"
      ],
      "metadata": {
        "id": "3YSt9dNr2cjr",
        "colab": {
          "base_uri": "https://localhost:8080/",
          "height": 715
        },
        "outputId": "5d06363c-a755-477f-a125-78a7bc8c7dbe"
      },
      "execution_count": 10,
      "outputs": [
        {
          "output_type": "stream",
          "name": "stdout",
          "text": [
            "Epoch 1/7\n",
            "\u001b[1m3750/3750\u001b[0m \u001b[32m━━━━━━━━━━━━━━━━━━━━\u001b[0m\u001b[37m\u001b[0m \u001b[1m10s\u001b[0m 2ms/step - accuracy: 0.5949 - loss: 3.8767 - val_accuracy: 0.7772 - val_loss: 0.6420\n",
            "Epoch 2/7\n",
            "\u001b[1m3750/3750\u001b[0m \u001b[32m━━━━━━━━━━━━━━━━━━━━\u001b[0m\u001b[37m\u001b[0m \u001b[1m9s\u001b[0m 2ms/step - accuracy: 0.8328 - loss: 0.3983 - val_accuracy: 0.9255 - val_loss: 0.4862\n",
            "Epoch 3/7\n",
            "\u001b[1m3750/3750\u001b[0m \u001b[32m━━━━━━━━━━━━━━━━━━━━\u001b[0m\u001b[37m\u001b[0m \u001b[1m11s\u001b[0m 3ms/step - accuracy: 0.8757 - loss: 0.3139 - val_accuracy: 0.8559 - val_loss: 0.5522\n",
            "Epoch 4/7\n",
            "\u001b[1m3750/3750\u001b[0m \u001b[32m━━━━━━━━━━━━━━━━━━━━\u001b[0m\u001b[37m\u001b[0m \u001b[1m9s\u001b[0m 2ms/step - accuracy: 0.8903 - loss: 0.2849 - val_accuracy: 0.8820 - val_loss: 0.4644\n",
            "Epoch 5/7\n",
            "\u001b[1m3750/3750\u001b[0m \u001b[32m━━━━━━━━━━━━━━━━━━━━\u001b[0m\u001b[37m\u001b[0m \u001b[1m8s\u001b[0m 2ms/step - accuracy: 0.9064 - loss: 0.2575 - val_accuracy: 0.9362 - val_loss: 0.3851\n",
            "Epoch 6/7\n",
            "\u001b[1m3750/3750\u001b[0m \u001b[32m━━━━━━━━━━━━━━━━━━━━\u001b[0m\u001b[37m\u001b[0m \u001b[1m10s\u001b[0m 3ms/step - accuracy: 0.9137 - loss: 0.2419 - val_accuracy: 0.9481 - val_loss: 0.4217\n",
            "Epoch 7/7\n",
            "\u001b[1m3750/3750\u001b[0m \u001b[32m━━━━━━━━━━━━━━━━━━━━\u001b[0m\u001b[37m\u001b[0m \u001b[1m9s\u001b[0m 2ms/step - accuracy: 0.9203 - loss: 0.2318 - val_accuracy: 0.9435 - val_loss: 0.4299\n"
          ]
        },
        {
          "output_type": "display_data",
          "data": {
            "text/plain": [
              "<Figure size 640x480 with 1 Axes>"
            ],
            "image/png": "[encoded data removed]"
          },
          "metadata": {}
        }
      ]
    },
    {
      "cell_type": "code",
      "source": [
        "stellar_model(2, 16, \"SGD\", \"sparse_categorical_crossentropy\", 7, 16)\n",
        "# intemediate_layers, layer_units, optimize, loss_function, my_epochs, batch size\n",
        "# optimizer changed to SGD https://keras.io/api/optimizers/sgd/"
      ],
      "metadata": {
        "colab": {
          "base_uri": "https://localhost:8080/",
          "height": 715
        },
        "id": "lOd73XlwlNzU",
        "outputId": "4b9e8ca8-42f0-4200-909a-4485db790035"
      },
      "execution_count": 11,
      "outputs": [
        {
          "output_type": "stream",
          "name": "stdout",
          "text": [
            "Epoch 1/7\n",
            "\u001b[1m3750/3750\u001b[0m \u001b[32m━━━━━━━━━━━━━━━━━━━━\u001b[0m\u001b[37m\u001b[0m \u001b[1m9s\u001b[0m 2ms/step - accuracy: 0.5854 - loss: 1.4115 - val_accuracy: 0.6001 - val_loss: 1.0954\n",
            "Epoch 2/7\n",
            "\u001b[1m3750/3750\u001b[0m \u001b[32m━━━━━━━━━━━━━━━━━━━━\u001b[0m\u001b[37m\u001b[0m \u001b[1m10s\u001b[0m 2ms/step - accuracy: 0.5965 - loss: 0.9528 - val_accuracy: 0.5997 - val_loss: 1.1109\n",
            "Epoch 3/7\n",
            "\u001b[1m3750/3750\u001b[0m \u001b[32m━━━━━━━━━━━━━━━━━━━━\u001b[0m\u001b[37m\u001b[0m \u001b[1m9s\u001b[0m 2ms/step - accuracy: 0.5932 - loss: 0.9480 - val_accuracy: 0.6004 - val_loss: 1.0974\n",
            "Epoch 4/7\n",
            "\u001b[1m3750/3750\u001b[0m \u001b[32m━━━━━━━━━━━━━━━━━━━━\u001b[0m\u001b[37m\u001b[0m \u001b[1m8s\u001b[0m 2ms/step - accuracy: 0.5936 - loss: 0.9374 - val_accuracy: 0.5999 - val_loss: 1.0968\n",
            "Epoch 5/7\n",
            "\u001b[1m3750/3750\u001b[0m \u001b[32m━━━━━━━━━━━━━━━━━━━━\u001b[0m\u001b[37m\u001b[0m \u001b[1m9s\u001b[0m 2ms/step - accuracy: 0.5916 - loss: 0.9248 - val_accuracy: 0.6006 - val_loss: 1.0711\n",
            "Epoch 6/7\n",
            "\u001b[1m3750/3750\u001b[0m \u001b[32m━━━━━━━━━━━━━━━━━━━━\u001b[0m\u001b[37m\u001b[0m \u001b[1m10s\u001b[0m 2ms/step - accuracy: 0.6037 - loss: 0.9000 - val_accuracy: 0.7031 - val_loss: 1.0456\n",
            "Epoch 7/7\n",
            "\u001b[1m3750/3750\u001b[0m \u001b[32m━━━━━━━━━━━━━━━━━━━━\u001b[0m\u001b[37m\u001b[0m \u001b[1m10s\u001b[0m 2ms/step - accuracy: 0.6243 - loss: 0.8686 - val_accuracy: 0.7109 - val_loss: 0.9258\n"
          ]
        },
        {
          "output_type": "display_data",
          "data": {
            "text/plain": [
              "<Figure size 640x480 with 1 Axes>"
            ],
            "image/png": "[encoded data removed]"
          },
          "metadata": {}
        }
      ]
    },
    {
      "cell_type": "markdown",
      "source": [
        "### **NOTES**"
      ],
      "metadata": {
        "id": "7srjSgIClXEE"
      }
    },
    {
      "cell_type": "markdown",
      "source": [
        "losses:\n",
        "- [categorical_crossentropy](https://keras.io/api/losses/probabilistic_losses/#categoricalcrossentropy-class) does not work (bc of inherent loss or error in code?)"
      ],
      "metadata": {
        "id": "65tc4JWUl-B5"
      }
    }
  ]
}